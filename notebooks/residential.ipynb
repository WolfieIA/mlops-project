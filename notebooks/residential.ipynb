version https://git-lfs.github.com/spec/v1
oid sha256:f73af4d73e7fcc2de3c360ec0be0a5daae89b48d4ade83b090b98f691ee66521
size 282795838
